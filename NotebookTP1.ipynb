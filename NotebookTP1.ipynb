{
 "cells": [
  {
   "cell_type": "raw",
   "id": "cf3297df-350f-4fed-8f02-127076f2897e",
   "metadata": {},
   "source": [
    "EJ1) Escribir un programa que pida al usuario su nombre y lo salude. Pista: van a\n",
    "necesitar la función input()."
   ]
  },
  {
   "cell_type": "code",
   "execution_count": null,
   "id": "d109c8a0-a582-4f12-b378-8502573cc95d",
   "metadata": {},
   "outputs": [
    {
     "name": "stdout",
     "output_type": "stream",
     "text": [
      "hola,  oscar lopez\n"
     ]
    }
   ],
   "source": [
    "def saludar(nombre, apellido, msj = \"hola, \"):\n",
    "    print(f\"{msj} {nombre} {apellido}\")\n",
    "\n",
    "saludar(\"oscar\", \"lopez\")\n"
   ]
  },
  {
   "cell_type": "raw",
   "id": "1178b749-f99d-4dc8-b384-8ad3f0e892d0",
   "metadata": {},
   "source": [
    "EJ2) Crear una función que devuelva la suma de dos números.\n"
   ]
  },
  {
   "cell_type": "code",
   "execution_count": 39,
   "id": "188d726c-2e0e-4bb2-b79c-a8923e03a7ba",
   "metadata": {},
   "outputs": [
    {
     "name": "stdout",
     "output_type": "stream",
     "text": [
      "3\n",
      "8\n"
     ]
    }
   ],
   "source": [
    "\n",
    "def calcular_suma(variable1, variable2):\n",
    "    r = variable1 + variable2\n",
    "    return r\n",
    "\n",
    "resultado = calcular_suma(1, 2)\n",
    "print(resultado)\n",
    "\n",
    "print(calcular_suma(3, 5))"
   ]
  },
  {
   "cell_type": "raw",
   "id": "5335a91e-33a0-4c04-810d-3b6aac4606e3",
   "metadata": {},
   "source": [
    "EJ3) Escribir un programa que calcule el área de un círculo dado su radio."
   ]
  },
  {
   "cell_type": "code",
   "execution_count": 9,
   "id": "ce4191e8-c56e-4cf1-8ec6-7b98d1b0593b",
   "metadata": {},
   "outputs": [
    {
     "name": "stdout",
     "output_type": "stream",
     "text": [
      "(78.53975, 31.4159, 10)\n",
      "Área: 78.53975, Circunferencia: 31.4159, Diámetro: 10\n"
     ]
    }
   ],
   "source": [
    "PI = 3.14159\n",
    "def calcular_propiedades_circulo(radio):\n",
    "\n",
    "    area = PI * radio ** 2\n",
    "    circunferencia = 2 * PI * radio\n",
    "    diametro = 2 * radio\n",
    "    return area, circunferencia, diametro\n",
    "\n",
    "# usando la función con una tupla como salida\n",
    "resultado = calcular_propiedades_circulo(5)\n",
    "print(resultado)\n",
    "\n",
    "# desempaquetando los valores retornados uno a uno\n",
    "a, c, d = calcular_propiedades_circulo(5)\n",
    "print(f\"Área: {a}, Circunferencia: {c}, Diámetro: {d}\")"
   ]
  },
  {
   "cell_type": "raw",
   "id": "44b32553-1c27-4861-a1bb-b8549aefb2be",
   "metadata": {},
   "source": [
    "EJ4)Crear una lista de 5 frutas y escribir un bucle que las imprima una por una.\n"
   ]
  },
  {
   "cell_type": "code",
   "execution_count": 23,
   "id": "8e09acf4-b009-469a-9604-7bd491b79515",
   "metadata": {},
   "outputs": [
    {
     "name": "stdout",
     "output_type": "stream",
     "text": [
      "['naranja', 'manzana', 'uva', 'frutilla', 'mandarina']\n",
      "fruta nro 0 = naranja\n",
      "fruta nro 1 = manzana\n",
      "fruta nro 2 = uva\n",
      "fruta nro 3 = frutilla\n",
      "fruta nro 4 = mandarina\n",
      "None\n"
     ]
    }
   ],
   "source": [
    "fruta0 = \"naranja\"\n",
    "fruta1 = \"manzana\"\n",
    "fruta2 = \"uva\"\n",
    "fruta3 = \"frutilla\"\n",
    "fruta4 = \"mandarina\"\n",
    "\n",
    "Frutas = [fruta0, fruta1, fruta2, fruta3, fruta4]\n",
    "print(Frutas)\n",
    "\n",
    "def imprimir_frutas(Frutas):\n",
    "    for i in range(len(Frutas)):\n",
    "        print(f\"fruta nro {i} = {Frutas[i]}\")\n",
    "\n",
    "print(imprimir_frutas(Frutas))\n"
   ]
  },
  {
   "cell_type": "raw",
   "id": "4c4d8050-ba9c-46fe-a9b2-dc3148c280b5",
   "metadata": {},
   "source": [
    "EJ5)Escribir una función que determine si un número es par o impar.\n"
   ]
  },
  {
   "cell_type": "code",
   "execution_count": 30,
   "id": "639ac88d-ac02-4111-91df-bad18f31def5",
   "metadata": {},
   "outputs": [
    {
     "name": "stdout",
     "output_type": "stream",
     "text": [
      "True\n",
      "False\n",
      "False\n",
      "True\n"
     ]
    }
   ],
   "source": [
    "def es_par(valor):\n",
    "  \"\"\"\n",
    "  Esta función devuelve un valor booleano indicando de la variable\n",
    "  valor es par\n",
    "  \"\"\"\n",
    "\n",
    "  # chequeamos si el valor modulo 2 es igual a 0\n",
    "  if valor % 2 == 0:\n",
    "    return True\n",
    "  else:\n",
    "    return False\n",
    "\n",
    "\n",
    "def es_impar(valor):\n",
    "  \"\"\"\n",
    "  Esta función devuelve un valor booleano indicando de la variable\n",
    "  valor es impar\n",
    "  \"\"\"\n",
    "  return not es_par(valor)\n",
    "\n",
    "print(es_par(2))\n",
    "print(es_impar(2))\n",
    "print(es_par(7))\n",
    "print(es_impar(7))"
   ]
  },
  {
   "cell_type": "raw",
   "id": "84b41b76-1509-416b-a18d-0f7546393444",
   "metadata": {
    "vscode": {
     "languageId": "raw"
    }
   },
   "source": [
    "EJ6)Crear un diccionario con nombres de estudiantes y sus notas. Imprimir el promedio\n",
    "de esas notas.\n"
   ]
  },
  {
   "cell_type": "code",
   "execution_count": 3,
   "id": "63c1e8de",
   "metadata": {},
   "outputs": [
    {
     "name": "stdout",
     "output_type": "stream",
     "text": [
      "Promedio de notas de Pedro: 5.5\n",
      "Promedio de notas de Juan: 6.00\n"
     ]
    }
   ],
   "source": [
    "\n",
    "\n",
    "\"\"\"\n",
    "notasJuan = [10, 7, 5, 2]\n",
    "notasPedro = [4, 7, 5, 6]\n",
    "\n",
    "\n",
    "DiccionarioPedro= dict( nombre = \"Pedro\", notas = notasPedro)\n",
    "DiccionarioJuan= dict( nombre = \"Juan\", notas = notasJuan)\n",
    "\n",
    "\n",
    "# Calcular el promedio de las notas de cada estudiante\n",
    "promedioPedro = sum(DiccionarioPedro[\"notas\"]) / len(DiccionarioPedro[\"notas\"])\n",
    "promedioJuan = sum(DiccionarioJuan[\"notas\"]) / len(DiccionarioJuan[\"notas\"])\n",
    "\n",
    "# Imprimir los diccionarios y los promedios\n",
    "print(\"Diccionario Pedro: \", DiccionarioPedro)\n",
    "print(\"Promedio de notas de Pedro: \", promedioPedro)\n",
    "\n",
    "print(\"Diccionario Juan: \", DiccionarioJuan)\n",
    "print(\"Promedio de notas de Juan: \", promedioJuan)\n",
    "\"\"\"\n",
    "\n",
    "\n",
    "\n",
    "\n",
    "\n",
    "\n",
    "#OTRA FORMA DE RESOLVERLO\n",
    "\n",
    "# Crear los diccionarios con las notas de cada estudiante\n",
    "DiccionarioPedro = dict(nombre=\"Pedro\", notas=[4, 7, 5, 6])\n",
    "DiccionarioJuan = dict(nombre=\"Juan\", notas=[10, 7, 5, 2])\n",
    "\n",
    "# Función para calcular el promedio sin usar sum() ni len()\n",
    "def calcular_promedio_manual(estudiante):\n",
    "    total = 0\n",
    "    contador = 0\n",
    "    for nota in estudiante[\"notas\"]:\n",
    "        total += nota\n",
    "        contador += 1\n",
    "    promedio = total / contador\n",
    "    return promedio\n",
    "\n",
    "# Calcular y mostrar los promedios\n",
    "promedioPedro = calcular_promedio_manual(DiccionarioPedro)\n",
    "promedioJuan = calcular_promedio_manual(DiccionarioJuan)\n",
    "\n",
    "print(f\"Promedio de notas de Pedro: {promedioPedro:}\")\n",
    "print(f\"Promedio de notas de Juan: {promedioJuan:.2f}\")"
   ]
  },
  {
   "cell_type": "markdown",
   "id": "8d702b49",
   "metadata": {},
   "source": [
    "8)Crear una función que reciba una cadena y devuelva True si es un palíndromo.\n",
    "Recordar que un palíndromo es aquella palabra que, espejada, se sigue leyendo\n",
    "igual (por ejemplo, neuquen)."
   ]
  },
  {
   "cell_type": "code",
   "execution_count": 1,
   "id": "3bf9a53f",
   "metadata": {},
   "outputs": [
    {
     "name": "stdout",
     "output_type": "stream",
     "text": [
      "True\n",
      "True\n",
      "False\n",
      "True\n"
     ]
    }
   ],
   "source": [
    "def es_palindromo(cadena):\n",
    "    # Eliminar espacios y convertir a minúsculas\n",
    "    cadena_limpia = ''.join(cadena.split()).lower()\n",
    "    #cadena.split(): Divide la cadena en una lista de palabras, eliminando los espacios.\n",
    "    #join(...): Une las palabras de nuevo en una sola cadena, sin espacios.\n",
    "    #lower(): Convierte la cadena a minúsculas para la comparación.\n",
    "\n",
    "    \n",
    "    # Comparar la cadena con su reverso\n",
    "    return cadena_limpia == cadena_limpia[::-1]\n",
    "    #cadena_limpia[::-1]: Obtiene la cadena en orden inverso.\n",
    "\n",
    "# Ejemplos de uso\n",
    "print(es_palindromo(\"neuquen\"))  # True\n",
    "print(es_palindromo(\"radar\"))    # True\n",
    "print(es_palindromo(\"hello\"))    # False\n",
    "print(es_palindromo(\"A man a plan a canal Panama\"))  # True"
   ]
  },
  {
   "cell_type": "markdown",
   "id": "cb03aafa",
   "metadata": {},
   "source": [
    "9)Crear una clase Rectángulo con atributos de ancho y alto, y métodos para calcular\n",
    "su área y perímetro."
   ]
  },
  {
   "cell_type": "code",
   "execution_count": 8,
   "id": "eb0c5047",
   "metadata": {},
   "outputs": [
    {
     "name": "stdout",
     "output_type": "stream",
     "text": [
      "Rectángulo de ancho 5 y alto 3\n",
      "Área: 15\n",
      "Perímetro: 16\n"
     ]
    }
   ],
   "source": [
    "class Rectangulo:\n",
    "    def __init__(self, ancho, alto):\n",
    "        # Inicializa los atributos de ancho y alto\n",
    "        self.ancho = ancho\n",
    "        self.alto = alto\n",
    "\n",
    "    def area(self):\n",
    "        return self.ancho * self.alto\n",
    "    def perimetro(self):\n",
    "        return self.ancho*2 + self.alto*2\n",
    "    \n",
    "    def mostrar_detalles(self):\n",
    "        # Mostrar detalles por pantalla usando print()\n",
    "        print(f\"Rectángulo de ancho {self.ancho} y alto {self.alto}\")\n",
    "        print(f\"Área: {self.area()}\")\n",
    "        print(f\"Perímetro: {self.perimetro()}\")\n",
    "    \n",
    "    # Ejemplo de uso\n",
    "rectangulo = Rectangulo(5, 3)\n",
    "rectangulo.mostrar_detalles()"
   ]
  },
  {
   "cell_type": "markdown",
   "id": "48f00d1d",
   "metadata": {},
   "source": [
    "10) Crear una clase Cuadrado que herede de Rectángulo y devuelva las mismas\n",
    "propiedades."
   ]
  },
  {
   "cell_type": "code",
   "execution_count": 11,
   "id": "e945cd42",
   "metadata": {},
   "outputs": [
    {
     "name": "stdout",
     "output_type": "stream",
     "text": [
      "Rectángulo de ancho 5 y alto 3\n",
      "Área: 15\n",
      "Perímetro: 16\n",
      "Cuadrado de lado 4\n",
      "Área: 16\n",
      "Perímetro: 16\n"
     ]
    }
   ],
   "source": [
    "class Rectangulo:\n",
    "    def __init__(self, ancho, alto):\n",
    "        self.ancho = ancho\n",
    "        self.alto = alto\n",
    "\n",
    "    def area(self):\n",
    "        return self.ancho * self.alto\n",
    "\n",
    "    def perimetro(self):\n",
    "        return 2 * (self.ancho + self.alto)\n",
    "    \n",
    "    def mostrar_detalles(self):\n",
    "        print(f\"Rectángulo de ancho {self.ancho} y alto {self.alto}\")\n",
    "        print(f\"Área: {self.area()}\")\n",
    "        print(f\"Perímetro: {self.perimetro()}\")\n",
    "\n",
    "    rectangulo = Rectangulo(5, 3)\n",
    "    rectangulo.mostrar_detalles()\n",
    "\n",
    "# Clase Cuadrado que hereda de Rectangulo\n",
    "class Cuadrado(Rectangulo):\n",
    "    def __init__(self, lado):\n",
    "        # Llama al constructor de Rectangulo con ambos lados iguales\n",
    "        super().__init__(lado, lado)\n",
    "    \n",
    "    def mostrar_detalles(self):\n",
    "        print(f\"Cuadrado de lado {self.alto}\")\n",
    "        print(f\"Área: {self.area()}\")\n",
    "        print(f\"Perímetro: {self.perimetro()}\")\n",
    "\n",
    "# Ejemplo de uso\n",
    "cuadrado = Cuadrado(4)\n",
    "cuadrado.mostrar_detalles()"
   ]
  }
 ],
 "metadata": {
  "kernelspec": {
   "display_name": "Python 3 (ipykernel)",
   "language": "python",
   "name": "python3"
  },
  "language_info": {
   "codemirror_mode": {
    "name": "ipython",
    "version": 3
   },
   "file_extension": ".py",
   "mimetype": "text/x-python",
   "name": "python",
   "nbconvert_exporter": "python",
   "pygments_lexer": "ipython3",
   "version": "3.12.5"
  }
 },
 "nbformat": 4,
 "nbformat_minor": 5
}
